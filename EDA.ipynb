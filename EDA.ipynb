{
 "cells": [
  {
   "cell_type": "code",
   "execution_count": 1,
   "metadata": {},
   "outputs": [],
   "source": [
    "#Libraries\n",
    "from bs4 import BeautifulSoup\n",
    "import matplotlib.pyplot as plt\n",
    "import numpy as np\n",
    "import pandas as pd\n",
    "import plotly.express as px\n",
    "import plotly.graph_objects as go\n",
    "import requests\n",
    "import seaborn as sns"
   ]
  },
  {
   "cell_type": "code",
   "execution_count": 2,
   "metadata": {},
   "outputs": [],
   "source": [
    "#Some configuration for matplotlib and seaborn to look pretty\n",
    "%matplotlib inline\n",
    "%config Inlinebackend.figure_format= 'retina'\n",
    "sns.set_context(\"poster\")\n",
    "sns.set(rc={\"figure.figsize\": (12.,6.)})\n",
    "sns.set_style(\"whitegrid\")"
   ]
  },
  {
   "cell_type": "code",
   "execution_count": 3,
   "metadata": {},
   "outputs": [],
   "source": [
    "#Reading the clean Data Frame\n",
    "df = pd.read_csv('Output/df_clean.csv')\n",
    "df.drop(columns='Unnamed: 0', inplace=True)"
   ]
  },
  {
   "cell_type": "code",
   "execution_count": 4,
   "metadata": {
    "scrolled": true
   },
   "outputs": [
    {
     "data": {
      "text/html": [
       "<div>\n",
       "<style scoped>\n",
       "    .dataframe tbody tr th:only-of-type {\n",
       "        vertical-align: middle;\n",
       "    }\n",
       "\n",
       "    .dataframe tbody tr th {\n",
       "        vertical-align: top;\n",
       "    }\n",
       "\n",
       "    .dataframe thead th {\n",
       "        text-align: right;\n",
       "    }\n",
       "</style>\n",
       "<table border=\"1\" class=\"dataframe\">\n",
       "  <thead>\n",
       "    <tr style=\"text-align: right;\">\n",
       "      <th></th>\n",
       "      <th>Country</th>\n",
       "      <th>Sex-ratio</th>\n",
       "      <th>Fertility</th>\n",
       "      <th>GDP per capita</th>\n",
       "      <th>Life expectancy</th>\n",
       "      <th>Meat consumption</th>\n",
       "      <th>Median age</th>\n",
       "      <th>Population growth</th>\n",
       "      <th>Suicide rate</th>\n",
       "      <th>Urbanization rate</th>\n",
       "      <th>Net Migration</th>\n",
       "      <th>Continent</th>\n",
       "      <th>HDI</th>\n",
       "      <th>Class</th>\n",
       "    </tr>\n",
       "  </thead>\n",
       "  <tbody>\n",
       "    <tr>\n",
       "      <th>106</th>\n",
       "      <td>Libya</td>\n",
       "      <td>1.05</td>\n",
       "      <td>2.2</td>\n",
       "      <td>9446.0</td>\n",
       "      <td>72.7</td>\n",
       "      <td>28.6</td>\n",
       "      <td>28.9</td>\n",
       "      <td>0.84</td>\n",
       "      <td>5.5</td>\n",
       "      <td>80.7</td>\n",
       "      <td>−9.5</td>\n",
       "      <td>Africa</td>\n",
       "      <td>0.706</td>\n",
       "      <td>In development</td>\n",
       "    </tr>\n",
       "  </tbody>\n",
       "</table>\n",
       "</div>"
      ],
      "text/plain": [
       "    Country  Sex-ratio  Fertility  GDP per capita  Life expectancy  \\\n",
       "106   Libya       1.05        2.2          9446.0             72.7   \n",
       "\n",
       "     Meat consumption  Median age  Population growth  Suicide rate  \\\n",
       "106              28.6        28.9               0.84           5.5   \n",
       "\n",
       "     Urbanization rate Net Migration Continent    HDI           Class  \n",
       "106               80.7          −9.5    Africa  0.706  In development  "
      ]
     },
     "execution_count": 4,
     "metadata": {},
     "output_type": "execute_result"
    }
   ],
   "source": [
    "df.sample()"
   ]
  },
  {
   "cell_type": "code",
   "execution_count": null,
   "metadata": {},
   "outputs": [],
   "source": [
    "df"
   ]
  }
 ],
 "metadata": {
  "kernelspec": {
   "display_name": "Python 3 (ipykernel)",
   "language": "python",
   "name": "python3"
  },
  "language_info": {
   "codemirror_mode": {
    "name": "ipython",
    "version": 3
   },
   "file_extension": ".py",
   "mimetype": "text/x-python",
   "name": "python",
   "nbconvert_exporter": "python",
   "pygments_lexer": "ipython3",
   "version": "3.9.12"
  },
  "toc": {
   "base_numbering": "",
   "nav_menu": {},
   "number_sections": false,
   "sideBar": true,
   "skip_h1_title": false,
   "title_cell": "Table of Contents",
   "title_sidebar": "Contents",
   "toc_cell": false,
   "toc_position": {},
   "toc_section_display": true,
   "toc_window_display": true
  }
 },
 "nbformat": 4,
 "nbformat_minor": 2
}
