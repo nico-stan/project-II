{
 "cells": [
  {
   "cell_type": "code",
   "execution_count": 1,
   "metadata": {},
   "outputs": [],
   "source": [
    "#Libraries\n",
    "import pandas as pd\n",
    "import requests\n",
    "from bs4 import BeautifulSoup\n",
    "import numpy as np"
   ]
  },
  {
   "cell_type": "code",
   "execution_count": 2,
   "metadata": {},
   "outputs": [],
   "source": [
    "#Functions from .py\n",
    "import src.clean as cl"
   ]
  },
  {
   "cell_type": "code",
   "execution_count": 3,
   "metadata": {
    "scrolled": true
   },
   "outputs": [
    {
     "name": "stdout",
     "output_type": "stream",
     "text": [
      "/Users/nicostan/Downloads/Ironhack/labs/project-II/Input\n"
     ]
    }
   ],
   "source": [
    "cd Input"
   ]
  },
  {
   "cell_type": "code",
   "execution_count": 4,
   "metadata": {
    "scrolled": false
   },
   "outputs": [],
   "source": [
    "#creating the DFs\n",
    "fertility = pd.read_csv ('Fertility.csv', encoding='latin')\n",
    "gdp = pd.read_csv ('GDP per capita.csv', encoding='latin')\n",
    "life = pd.read_csv ('Life expectancy.csv', encoding='latin')\n",
    "meat = pd.read_csv ('Meat consumption.csv', encoding='latin')\n",
    "age = pd.read_csv ('Median age.csv', encoding='latin')\n",
    "growth = pd.read_csv ('Population growth.csv', encoding='latin')\n",
    "sex = pd.read_csv ('Sex-ratio.csv', encoding='latin')\n",
    "suicide = pd.read_csv ('Suicide rate.csv', encoding='latin')\n",
    "urbanization = pd.read_csv ('Urbanization rate.csv', encoding='latin')"
   ]
  },
  {
   "cell_type": "code",
   "execution_count": 5,
   "metadata": {},
   "outputs": [
    {
     "name": "stdout",
     "output_type": "stream",
     "text": [
      "/Users/nicostan/Downloads/Ironhack/labs/project-II\n"
     ]
    }
   ],
   "source": [
    "cd .."
   ]
  },
  {
   "cell_type": "code",
   "execution_count": 6,
   "metadata": {
    "scrolled": true
   },
   "outputs": [
    {
     "name": "stdout",
     "output_type": "stream",
     "text": [
      "fertility has 201 rows\n",
      "gdp has 191 rows\n",
      "life has 185 rows\n",
      "meat has 187 rows\n",
      "age has 223 rows\n",
      "growth has 207 rows\n",
      "sex has 226 rows\n",
      "suicide has 182 rows\n",
      "urbanization has 218 rows\n"
     ]
    }
   ],
   "source": [
    "#Checking for missing countries\n",
    "print(f\"fertility has {fertility.shape[0]} rows\")\n",
    "print(f\"gdp has {gdp.shape[0]} rows\")\n",
    "print(f\"life has {life.shape[0]} rows\")\n",
    "print(f\"meat has {meat.shape[0]} rows\")\n",
    "print(f\"age has {age.shape[0]} rows\")\n",
    "print(f\"growth has {growth.shape[0]} rows\")\n",
    "print(f\"sex has {sex.shape[0]} rows\")\n",
    "print(f\"suicide has {suicide.shape[0]} rows\")\n",
    "print(f\"urbanization has {urbanization.shape[0]} rows\")"
   ]
  },
  {
   "cell_type": "code",
   "execution_count": 7,
   "metadata": {},
   "outputs": [],
   "source": [
    "#Dropping country columns for future merge, we don't want to drop sex because it has the most countries(rows)\n",
    "fertility = cl.dropping(fertility,'Country')\n",
    "gdp = cl.dropping(gdp,'Country')\n",
    "life = cl.dropping(life,'Country')\n",
    "meat = cl.dropping(meat,'Country')\n",
    "age = cl.dropping(age,'Country')\n",
    "growth = cl.dropping(growth,'Country')\n",
    "suicide = cl.dropping(suicide,'Country')\n",
    "urbanization = cl.dropping(urbanization,'Country')"
   ]
  },
  {
   "cell_type": "code",
   "execution_count": 8,
   "metadata": {},
   "outputs": [],
   "source": [
    "#Quick fix for formatting meat, sex and age df, also for solving the joining issue ahead\n",
    "sex = cl.formatting(sex,'Country', 'ISO-code')\n",
    "fertility = cl.formatting(fertility,'ISO-code')\n",
    "gdp = cl.formatting(gdp,'ISO-code')\n",
    "life = cl.formatting(life,'ISO-code')\n",
    "meat = cl.formatting(meat,'ISO-code')\n",
    "age = cl.formatting(age,'ISO-code')\n",
    "growth = cl.formatting(growth,'ISO-code')\n",
    "suicide = cl.formatting(suicide,'ISO-code')\n",
    "urbanization = cl.formatting(urbanization,'ISO-code')"
   ]
  },
  {
   "cell_type": "code",
   "execution_count": 9,
   "metadata": {},
   "outputs": [],
   "source": [
    "#Only unique values\n",
    "fertility = fertility.drop_duplicates(subset='ISO-code')\n",
    "gdp = gdp.drop_duplicates(subset='ISO-code')\n",
    "life = life.drop_duplicates(subset='ISO-code')\n",
    "growth = growth.drop_duplicates(subset='ISO-code')\n",
    "suicide = suicide.drop_duplicates(subset='ISO-code')\n",
    "urbanization = urbanization.drop_duplicates(subset='ISO-code')\n",
    "meat = meat.drop_duplicates(subset='ISO-code')\n",
    "sex = sex.drop_duplicates(subset='ISO-code')\n",
    "age = age.drop_duplicates(subset='ISO-code')"
   ]
  },
  {
   "cell_type": "code",
   "execution_count": 10,
   "metadata": {
    "collapsed": true
   },
   "outputs": [
    {
     "name": "stderr",
     "output_type": "stream",
     "text": [
      "/var/folders/5v/dc6514ld10d33dy0zgf23r6m0000gn/T/ipykernel_67042/53380816.py:2: FutureWarning: The frame.append method is deprecated and will be removed from pandas in a future version. Use pandas.concat instead.\n",
      "  sex = sex.append({'Country':'Palestine', 'ISO-code':'PSE'}, ignore_index=True)\n",
      "/var/folders/5v/dc6514ld10d33dy0zgf23r6m0000gn/T/ipykernel_67042/53380816.py:3: FutureWarning: The frame.append method is deprecated and will be removed from pandas in a future version. Use pandas.concat instead.\n",
      "  sex = sex.append({'Country':'Martinique', 'ISO-code':'MTQ'}, ignore_index=True)\n",
      "/var/folders/5v/dc6514ld10d33dy0zgf23r6m0000gn/T/ipykernel_67042/53380816.py:4: FutureWarning: The frame.append method is deprecated and will be removed from pandas in a future version. Use pandas.concat instead.\n",
      "  sex = sex.append({'Country':'Guadeloupe', 'ISO-code':'GLP'}, ignore_index=True)\n",
      "/var/folders/5v/dc6514ld10d33dy0zgf23r6m0000gn/T/ipykernel_67042/53380816.py:5: FutureWarning: The frame.append method is deprecated and will be removed from pandas in a future version. Use pandas.concat instead.\n",
      "  sex = sex.append({'Country':'French Guiana', 'ISO-code':'GUF'}, ignore_index=True)\n",
      "/var/folders/5v/dc6514ld10d33dy0zgf23r6m0000gn/T/ipykernel_67042/53380816.py:6: FutureWarning: The frame.append method is deprecated and will be removed from pandas in a future version. Use pandas.concat instead.\n",
      "  sex = sex.append({'Country':'Niue', 'ISO-code':'NIU'}, ignore_index=True)\n",
      "/var/folders/5v/dc6514ld10d33dy0zgf23r6m0000gn/T/ipykernel_67042/53380816.py:7: FutureWarning: The frame.append method is deprecated and will be removed from pandas in a future version. Use pandas.concat instead.\n",
      "  sex = sex.append({'Country':'Réunion', 'ISO-code':'REU'}, ignore_index=True)\n",
      "/var/folders/5v/dc6514ld10d33dy0zgf23r6m0000gn/T/ipykernel_67042/53380816.py:8: FutureWarning: The frame.append method is deprecated and will be removed from pandas in a future version. Use pandas.concat instead.\n",
      "  sex = sex.append({'Country':'Guinea-Bissau', 'ISO-code':'GBS'}, ignore_index=True)\n",
      "/var/folders/5v/dc6514ld10d33dy0zgf23r6m0000gn/T/ipykernel_67042/53380816.py:9: FutureWarning: The frame.append method is deprecated and will be removed from pandas in a future version. Use pandas.concat instead.\n",
      "  sex = sex.append({'Country':'Mayotte', 'ISO-code':'MAY'}, ignore_index=True)\n"
     ]
    }
   ],
   "source": [
    "#Add missing countries on sex for final considerations and limitations\n",
    "sex = sex.append({'Country':'Palestine', 'ISO-code':'PSE'}, ignore_index=True)\n",
    "sex = sex.append({'Country':'Martinique', 'ISO-code':'MTQ'}, ignore_index=True)\n",
    "sex = sex.append({'Country':'Guadeloupe', 'ISO-code':'GLP'}, ignore_index=True)\n",
    "sex = sex.append({'Country':'French Guiana', 'ISO-code':'GUF'}, ignore_index=True)\n",
    "sex = sex.append({'Country':'Niue', 'ISO-code':'NIU'}, ignore_index=True)\n",
    "sex = sex.append({'Country':'Réunion', 'ISO-code':'REU'}, ignore_index=True)\n",
    "sex = sex.append({'Country':'Guinea-Bissau', 'ISO-code':'GBS'}, ignore_index=True)\n",
    "sex = sex.append({'Country':'Mayotte', 'ISO-code':'MAY'}, ignore_index=True)"
   ]
  },
  {
   "cell_type": "code",
   "execution_count": 11,
   "metadata": {},
   "outputs": [
    {
     "data": {
      "text/plain": [
       "232"
      ]
     },
     "execution_count": 11,
     "metadata": {},
     "output_type": "execute_result"
    }
   ],
   "source": [
    "#Left join on sex as it is the most complete DF --> Consolidating the DF (df)\n",
    "df = sex.merge(fertility, on=['ISO-code'], how='left')\n",
    "df = df.merge(gdp, on=['ISO-code'], how='left')\n",
    "df = df.merge(life, on=['ISO-code'], how='left')\n",
    "df = df.merge(meat, on=['ISO-code'], how='left')\n",
    "df = df.merge(age, on=['ISO-code'], how='left')\n",
    "df = df.merge(growth, on=['ISO-code'], how='left')\n",
    "df = df.merge(suicide, on=['ISO-code'], how='left')\n",
    "df = df.merge(urbanization, on=['ISO-code'], how='left')\n",
    "df = cl.dropping(df,'ISO-code')\n",
    "df.shape[0]"
   ]
  },
  {
   "cell_type": "code",
   "execution_count": 12,
   "metadata": {},
   "outputs": [
    {
     "data": {
      "text/html": [
       "<div>\n",
       "<style scoped>\n",
       "    .dataframe tbody tr th:only-of-type {\n",
       "        vertical-align: middle;\n",
       "    }\n",
       "\n",
       "    .dataframe tbody tr th {\n",
       "        vertical-align: top;\n",
       "    }\n",
       "\n",
       "    .dataframe thead th {\n",
       "        text-align: right;\n",
       "    }\n",
       "</style>\n",
       "<table border=\"1\" class=\"dataframe\">\n",
       "  <thead>\n",
       "    <tr style=\"text-align: right;\">\n",
       "      <th></th>\n",
       "      <th>Country</th>\n",
       "      <th>Sex-ratio</th>\n",
       "      <th>Fertility</th>\n",
       "      <th>GDP per capita</th>\n",
       "      <th>Life expectancy</th>\n",
       "      <th>Meat consumption</th>\n",
       "      <th>Median age</th>\n",
       "      <th>Population growth</th>\n",
       "      <th>Suicide rate</th>\n",
       "      <th>Urbanization rate</th>\n",
       "    </tr>\n",
       "  </thead>\n",
       "  <tbody>\n",
       "    <tr>\n",
       "      <th>162</th>\n",
       "      <td>Romania</td>\n",
       "      <td>0.95</td>\n",
       "      <td>1.8</td>\n",
       "      <td>29555.0</td>\n",
       "      <td>75.9</td>\n",
       "      <td>54.5</td>\n",
       "      <td>41.1</td>\n",
       "      <td>-0.27</td>\n",
       "      <td>8.0</td>\n",
       "      <td>56.4</td>\n",
       "    </tr>\n",
       "  </tbody>\n",
       "</table>\n",
       "</div>"
      ],
      "text/plain": [
       "     Country  Sex-ratio  Fertility  GDP per capita  Life expectancy  \\\n",
       "162  Romania       0.95        1.8         29555.0             75.9   \n",
       "\n",
       "     Meat consumption  Median age  Population growth  Suicide rate  \\\n",
       "162              54.5        41.1              -0.27           8.0   \n",
       "\n",
       "     Urbanization rate  \n",
       "162               56.4  "
      ]
     },
     "execution_count": 12,
     "metadata": {},
     "output_type": "execute_result"
    }
   ],
   "source": [
    "df.sample()"
   ]
  },
  {
   "cell_type": "code",
   "execution_count": 13,
   "metadata": {
    "scrolled": true
   },
   "outputs": [],
   "source": [
    "#Scraping migration data from wikipedia\n",
    "url = \"https://en.wikipedia.org/wiki/List_of_countries_by_net_migration_rate\"\n",
    "res = requests.get(url)\n",
    "html=res.content\n",
    "soup = BeautifulSoup(html, \"html.parser\")"
   ]
  },
  {
   "cell_type": "code",
   "execution_count": 14,
   "metadata": {},
   "outputs": [],
   "source": [
    "#The second table is the charm\n",
    "tables = soup.find_all(\"table\")[1] "
   ]
  },
  {
   "cell_type": "code",
   "execution_count": 15,
   "metadata": {
    "scrolled": true
   },
   "outputs": [
    {
     "data": {
      "text/plain": [
       "['Country', 'Net Migration']"
      ]
     },
     "execution_count": 15,
     "metadata": {},
     "output_type": "execute_result"
    }
   ],
   "source": [
    "#Make the DF (df2) and make it look pretty\n",
    "df2 = pd.read_html(tables.prettify())[0]\n",
    "df2.rename(columns = {'Annual net migration per 1000 inhabitants  2010–2015':'Net Migration'}, inplace = True)\n",
    "df2=cl.dropping(df2,'Annual net migration per 1000 inhabitants  2015–2020 (forecast)')\n",
    "df = cl.formatting(df,'Country')\n",
    "df2 = cl.formatting(df2,'Country')\n",
    "list(df2.keys())"
   ]
  },
  {
   "cell_type": "code",
   "execution_count": 16,
   "metadata": {
    "collapsed": true
   },
   "outputs": [
    {
     "name": "stderr",
     "output_type": "stream",
     "text": [
      "/var/folders/5v/dc6514ld10d33dy0zgf23r6m0000gn/T/ipykernel_67042/2641628015.py:4: FutureWarning: The frame.append method is deprecated and will be removed from pandas in a future version. Use pandas.concat instead.\n",
      "  df2 = df2.append({'Country':'Guernsey', 'Net Migration':df2['Net Migration'][28]}, ignore_index=True)\n"
     ]
    }
   ],
   "source": [
    "#Correcting country names for an accurate Merge\n",
    "df2['Country'][13]='Curacao'\n",
    "df2['Country'][28]='Jersey'\n",
    "df2 = df2.append({'Country':'Guernsey', 'Net Migration':df2['Net Migration'][28]}, ignore_index=True)\n",
    "df2['Country'][31]='United Kingdom'\n",
    "df2['Country'][37]='The Bahamas'\n",
    "df2['Country'][73]='Democratic Republic of the Congo'\n",
    "df2['Country'][119]='The Gambia'\n",
    "df2['Country'][138]='Republic of the Congo'\n",
    "df2['Country'][179]='Virgin Islands'\n",
    "df2['Country'][180]='Sao Tome and Principe'\n",
    "df2['Country'][189]='Samoa'"
   ]
  },
  {
   "cell_type": "code",
   "execution_count": 17,
   "metadata": {},
   "outputs": [
    {
     "data": {
      "text/plain": [
       "232"
      ]
     },
     "execution_count": 17,
     "metadata": {},
     "output_type": "execute_result"
    }
   ],
   "source": [
    "##Left join on df to consolidate the DF (df <--df2)\n",
    "df = df.merge(df2, on=['Country'], how='left')\n",
    "df.shape[0]"
   ]
  },
  {
   "cell_type": "code",
   "execution_count": 18,
   "metadata": {},
   "outputs": [
    {
     "data": {
      "text/html": [
       "<div>\n",
       "<style scoped>\n",
       "    .dataframe tbody tr th:only-of-type {\n",
       "        vertical-align: middle;\n",
       "    }\n",
       "\n",
       "    .dataframe tbody tr th {\n",
       "        vertical-align: top;\n",
       "    }\n",
       "\n",
       "    .dataframe thead th {\n",
       "        text-align: right;\n",
       "    }\n",
       "</style>\n",
       "<table border=\"1\" class=\"dataframe\">\n",
       "  <thead>\n",
       "    <tr style=\"text-align: right;\">\n",
       "      <th></th>\n",
       "      <th>Country</th>\n",
       "      <th>Sex-ratio</th>\n",
       "      <th>Fertility</th>\n",
       "      <th>GDP per capita</th>\n",
       "      <th>Life expectancy</th>\n",
       "      <th>Meat consumption</th>\n",
       "      <th>Median age</th>\n",
       "      <th>Population growth</th>\n",
       "      <th>Suicide rate</th>\n",
       "      <th>Urbanization rate</th>\n",
       "      <th>Net Migration</th>\n",
       "    </tr>\n",
       "  </thead>\n",
       "  <tbody>\n",
       "    <tr>\n",
       "      <th>197</th>\n",
       "      <td>Tanzania</td>\n",
       "      <td>1.0</td>\n",
       "      <td>4.9</td>\n",
       "      <td>3652.0</td>\n",
       "      <td>65.0</td>\n",
       "      <td>10.0</td>\n",
       "      <td>17.7</td>\n",
       "      <td>3.04</td>\n",
       "      <td>9.6</td>\n",
       "      <td>35.2</td>\n",
       "      <td>−1.0</td>\n",
       "    </tr>\n",
       "  </tbody>\n",
       "</table>\n",
       "</div>"
      ],
      "text/plain": [
       "      Country  Sex-ratio  Fertility  GDP per capita  Life expectancy  \\\n",
       "197  Tanzania        1.0        4.9          3652.0             65.0   \n",
       "\n",
       "     Meat consumption  Median age  Population growth  Suicide rate  \\\n",
       "197              10.0        17.7               3.04           9.6   \n",
       "\n",
       "     Urbanization rate Net Migration  \n",
       "197               35.2          −1.0  "
      ]
     },
     "execution_count": 18,
     "metadata": {},
     "output_type": "execute_result"
    }
   ],
   "source": [
    "df.sample()"
   ]
  },
  {
   "cell_type": "code",
   "execution_count": 19,
   "metadata": {},
   "outputs": [
    {
     "data": {
      "text/html": [
       "<div>\n",
       "<style scoped>\n",
       "    .dataframe tbody tr th:only-of-type {\n",
       "        vertical-align: middle;\n",
       "    }\n",
       "\n",
       "    .dataframe tbody tr th {\n",
       "        vertical-align: top;\n",
       "    }\n",
       "\n",
       "    .dataframe thead th {\n",
       "        text-align: right;\n",
       "    }\n",
       "</style>\n",
       "<table border=\"1\" class=\"dataframe\">\n",
       "  <thead>\n",
       "    <tr style=\"text-align: right;\">\n",
       "      <th></th>\n",
       "      <th>Country</th>\n",
       "      <th>Continent</th>\n",
       "    </tr>\n",
       "  </thead>\n",
       "  <tbody>\n",
       "    <tr>\n",
       "      <th>76</th>\n",
       "      <td>Kuwait</td>\n",
       "      <td>Asia</td>\n",
       "    </tr>\n",
       "  </tbody>\n",
       "</table>\n",
       "</div>"
      ],
      "text/plain": [
       "   Country Continent\n",
       "76  Kuwait      Asia"
      ]
     },
     "execution_count": 19,
     "metadata": {},
     "output_type": "execute_result"
    }
   ],
   "source": [
    "#Adding the Continent column\n",
    "df3 = pd.read_csv('Input/csvData.csv')\n",
    "df3.rename(columns = {'country':'Country', 'continent':'Continent'}, inplace = True)\n",
    "df3 = cl.formatting(df3,'Country')\n",
    "df3.sample()"
   ]
  },
  {
   "cell_type": "code",
   "execution_count": 20,
   "metadata": {
    "collapsed": true
   },
   "outputs": [
    {
     "name": "stderr",
     "output_type": "stream",
     "text": [
      "/var/folders/5v/dc6514ld10d33dy0zgf23r6m0000gn/T/ipykernel_67042/674111837.py:3: FutureWarning: The frame.append method is deprecated and will be removed from pandas in a future version. Use pandas.concat instead.\n",
      "  df3 = df3.append({'Country':'Democratic Republic of the Congo', 'Continent':'Africa'}, ignore_index=True)\n"
     ]
    }
   ],
   "source": [
    "#Correcting country names for an accurate Merge\n",
    "df3[\"Country\"][160]='The Bahamas'\n",
    "df3 = df3.append({'Country':'Democratic Republic of the Congo', 'Continent':'Africa'}, ignore_index=True)\n",
    "df3[\"Country\"][19]='The Gambia'\n",
    "df3[\"Country\"][100]='East Timor'\n",
    "df3.drop_duplicates(subset='Country', ignore_index=True, inplace=True)"
   ]
  },
  {
   "cell_type": "code",
   "execution_count": 21,
   "metadata": {},
   "outputs": [],
   "source": [
    "#Export the file continents for a cleaner look\n",
    "df3.to_csv(\"./Input/continents.csv\")"
   ]
  },
  {
   "cell_type": "code",
   "execution_count": 22,
   "metadata": {},
   "outputs": [
    {
     "data": {
      "text/html": [
       "<div>\n",
       "<style scoped>\n",
       "    .dataframe tbody tr th:only-of-type {\n",
       "        vertical-align: middle;\n",
       "    }\n",
       "\n",
       "    .dataframe tbody tr th {\n",
       "        vertical-align: top;\n",
       "    }\n",
       "\n",
       "    .dataframe thead th {\n",
       "        text-align: right;\n",
       "    }\n",
       "</style>\n",
       "<table border=\"1\" class=\"dataframe\">\n",
       "  <thead>\n",
       "    <tr style=\"text-align: right;\">\n",
       "      <th></th>\n",
       "      <th>Country</th>\n",
       "      <th>Sex-ratio</th>\n",
       "      <th>Fertility</th>\n",
       "      <th>GDP per capita</th>\n",
       "      <th>Life expectancy</th>\n",
       "      <th>Meat consumption</th>\n",
       "      <th>Median age</th>\n",
       "      <th>Population growth</th>\n",
       "      <th>Suicide rate</th>\n",
       "      <th>Urbanization rate</th>\n",
       "      <th>Net Migration</th>\n",
       "      <th>Continent</th>\n",
       "    </tr>\n",
       "  </thead>\n",
       "  <tbody>\n",
       "    <tr>\n",
       "      <th>38</th>\n",
       "      <td>Chad</td>\n",
       "      <td>0.98</td>\n",
       "      <td>5.7</td>\n",
       "      <td>2603.0</td>\n",
       "      <td>54.0</td>\n",
       "      <td>14.3</td>\n",
       "      <td>17.8</td>\n",
       "      <td>3.0</td>\n",
       "      <td>15.5</td>\n",
       "      <td>23.5</td>\n",
       "      <td>1.5</td>\n",
       "      <td>Africa</td>\n",
       "    </tr>\n",
       "  </tbody>\n",
       "</table>\n",
       "</div>"
      ],
      "text/plain": [
       "   Country  Sex-ratio  Fertility  GDP per capita  Life expectancy  \\\n",
       "38    Chad       0.98        5.7          2603.0             54.0   \n",
       "\n",
       "    Meat consumption  Median age  Population growth  Suicide rate  \\\n",
       "38              14.3        17.8                3.0          15.5   \n",
       "\n",
       "    Urbanization rate Net Migration Continent  \n",
       "38               23.5           1.5    Africa  "
      ]
     },
     "execution_count": 22,
     "metadata": {},
     "output_type": "execute_result"
    }
   ],
   "source": [
    "##Left join on df to consolidate the DF (df <--df3)\n",
    "df = df.merge(df3, on=['Country'], how='left')\n",
    "df.sample()"
   ]
  },
  {
   "cell_type": "code",
   "execution_count": 23,
   "metadata": {},
   "outputs": [
    {
     "data": {
      "text/plain": [
       "4"
      ]
     },
     "execution_count": 23,
     "metadata": {},
     "output_type": "execute_result"
    }
   ],
   "source": [
    "#Countries without continent --> Small Island Nations which will be dropped on further analysis\n",
    "df['Continent'].isna().sum()"
   ]
  },
  {
   "cell_type": "code",
   "execution_count": 24,
   "metadata": {},
   "outputs": [],
   "source": [
    "#Importing data on Developped / In development\n",
    "first = pd.read_csv('Input/first.csv')\n",
    "third = pd.read_csv('Input/third.csv')"
   ]
  },
  {
   "cell_type": "code",
   "execution_count": 25,
   "metadata": {},
   "outputs": [],
   "source": [
    "#Dropping unnecessary columns\n",
    "first = cl.dropping(first,'hdiRank', 'pop2022')\n",
    "third = cl.dropping(third,'pop2022')"
   ]
  },
  {
   "cell_type": "code",
   "execution_count": 26,
   "metadata": {},
   "outputs": [],
   "source": [
    "#Renaming columns for comprehensive reading\n",
    "first.rename(columns = {'country':'Country','hdi2019':'HDI' }, inplace = True)\n",
    "third.rename(columns = {'country':'Country', 'humanDevelopmentIndex':'HDI'}, inplace = True)"
   ]
  },
  {
   "cell_type": "code",
   "execution_count": 27,
   "metadata": {
    "collapsed": true
   },
   "outputs": [
    {
     "name": "stderr",
     "output_type": "stream",
     "text": [
      "/var/folders/5v/dc6514ld10d33dy0zgf23r6m0000gn/T/ipykernel_67042/1264053327.py:5: SettingWithCopyWarning: \n",
      "A value is trying to be set on a copy of a slice from a DataFrame\n",
      "\n",
      "See the caveats in the documentation: https://pandas.pydata.org/pandas-docs/stable/user_guide/indexing.html#returning-a-view-versus-a-copy\n",
      "  first[\"Country\"][55]='The Bahamas'\n",
      "/var/folders/5v/dc6514ld10d33dy0zgf23r6m0000gn/T/ipykernel_67042/1264053327.py:6: SettingWithCopyWarning: \n",
      "A value is trying to be set on a copy of a slice from a DataFrame\n",
      "\n",
      "See the caveats in the documentation: https://pandas.pydata.org/pandas-docs/stable/user_guide/indexing.html#returning-a-view-versus-a-copy\n",
      "  third['Country'][87]='American Samoa'\n",
      "/var/folders/5v/dc6514ld10d33dy0zgf23r6m0000gn/T/ipykernel_67042/1264053327.py:7: SettingWithCopyWarning: \n",
      "A value is trying to be set on a copy of a slice from a DataFrame\n",
      "\n",
      "See the caveats in the documentation: https://pandas.pydata.org/pandas-docs/stable/user_guide/indexing.html#returning-a-view-versus-a-copy\n",
      "  third['Country'][15]='Democratic Republic of the Congo'\n",
      "/var/folders/5v/dc6514ld10d33dy0zgf23r6m0000gn/T/ipykernel_67042/1264053327.py:8: SettingWithCopyWarning: \n",
      "A value is trying to be set on a copy of a slice from a DataFrame\n",
      "\n",
      "See the caveats in the documentation: https://pandas.pydata.org/pandas-docs/stable/user_guide/indexing.html#returning-a-view-versus-a-copy\n",
      "  third['Country'][17]='The Gambia'\n",
      "/var/folders/5v/dc6514ld10d33dy0zgf23r6m0000gn/T/ipykernel_67042/1264053327.py:9: SettingWithCopyWarning: \n",
      "A value is trying to be set on a copy of a slice from a DataFrame\n",
      "\n",
      "See the caveats in the documentation: https://pandas.pydata.org/pandas-docs/stable/user_guide/indexing.html#returning-a-view-versus-a-copy\n",
      "  third['Country'][59]='East Timor'\n"
     ]
    }
   ],
   "source": [
    "#Adding the correct collumn for each 'Class' and \n",
    "first['Class']='Developped'\n",
    "third['Class']='In development'\n",
    "#Correcting country names for an accurate Merge\n",
    "first[\"Country\"][55]='The Bahamas'\n",
    "third['Country'][87]='American Samoa'\n",
    "third['Country'][15]='Democratic Republic of the Congo'\n",
    "third['Country'][17]='The Gambia'\n",
    "third['Country'][59]='East Timor'"
   ]
  },
  {
   "cell_type": "code",
   "execution_count": 28,
   "metadata": {},
   "outputs": [
    {
     "data": {
      "text/plain": [
       "191"
      ]
     },
     "execution_count": 28,
     "metadata": {},
     "output_type": "execute_result"
    }
   ],
   "source": [
    "#Concatenating first and third into df4. Dropping duplicates, formatting and sorting A-Z.\n",
    "df4 = pd.concat([first, third], ignore_index=True)\n",
    "df4.drop_duplicates(subset='Country', keep='first', inplace=True, ignore_index=True)\n",
    "df4 = cl.formatting(df4,'Country')\n",
    "df4=df4.sort_values(by='Country', axis=0, ascending=True, ignore_index=True)\n",
    "df4.shape[0]"
   ]
  },
  {
   "cell_type": "code",
   "execution_count": 29,
   "metadata": {},
   "outputs": [],
   "source": [
    "#Export the file worlds for a cleaner look\n",
    "df4.to_csv(\"./Input/worlds.csv\")"
   ]
  },
  {
   "cell_type": "code",
   "execution_count": 30,
   "metadata": {},
   "outputs": [],
   "source": [
    "##Left join on df to consolidate the DF (df <--df3)\n",
    "df = df.merge(df4, on=['Country'], how='left')"
   ]
  },
  {
   "cell_type": "code",
   "execution_count": 31,
   "metadata": {},
   "outputs": [],
   "source": [
    "#Fill NaN values in Class columns as Nations ' In development'\n",
    "df['Class'].fillna(value='In development', inplace=True)"
   ]
  },
  {
   "cell_type": "code",
   "execution_count": 32,
   "metadata": {
    "scrolled": true
   },
   "outputs": [
    {
     "data": {
      "text/plain": [
       "232"
      ]
     },
     "execution_count": 32,
     "metadata": {},
     "output_type": "execute_result"
    }
   ],
   "source": [
    "#Checking for duplicate countries --> None found\n",
    "df.drop_duplicates(subset='Country', ignore_index=True, inplace=True)\n",
    "df=df.sort_values(by='Country', axis=0, ascending=True, ignore_index=True)\n",
    "df.shape[0]"
   ]
  },
  {
   "cell_type": "code",
   "execution_count": 33,
   "metadata": {},
   "outputs": [],
   "source": [
    "#Net Migration column appear to be a string not a value so we have to replace('−','-')\n",
    "df['Net Migration']=df['Net Migration'].apply(lambda x: float(x.replace('−','-')) if type(x)!=float else x)"
   ]
  },
  {
   "cell_type": "code",
   "execution_count": 34,
   "metadata": {},
   "outputs": [],
   "source": [
    "#Export the main DF (df) for a cleaner look and further plotting\n",
    "df.to_csv(\"./Output/df_clean.csv\")"
   ]
  }
 ],
 "metadata": {
  "kernelspec": {
   "display_name": "Python 3 (ipykernel)",
   "language": "python",
   "name": "python3"
  },
  "language_info": {
   "codemirror_mode": {
    "name": "ipython",
    "version": 3
   },
   "file_extension": ".py",
   "mimetype": "text/x-python",
   "name": "python",
   "nbconvert_exporter": "python",
   "pygments_lexer": "ipython3",
   "version": "3.9.12"
  },
  "toc": {
   "base_numbering": "",
   "nav_menu": {},
   "number_sections": false,
   "sideBar": true,
   "skip_h1_title": false,
   "title_cell": "Table of Contents",
   "title_sidebar": "Contents",
   "toc_cell": false,
   "toc_position": {},
   "toc_section_display": true,
   "toc_window_display": true
  }
 },
 "nbformat": 4,
 "nbformat_minor": 2
}
