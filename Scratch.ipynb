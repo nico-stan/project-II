{
 "cells": [
  {
   "cell_type": "code",
   "execution_count": 1,
   "metadata": {},
   "outputs": [],
   "source": [
    "#Libraries\n",
    "import pandas as pd\n",
    "import requests\n",
    "from bs4 import BeautifulSoup\n",
    "import numpy as np"
   ]
  },
  {
   "cell_type": "code",
   "execution_count": 2,
   "metadata": {
    "scrolled": true
   },
   "outputs": [
    {
     "name": "stdout",
     "output_type": "stream",
     "text": [
      "/Users/nicostan/Downloads/Ironhack/labs/project-II/Input\n"
     ]
    }
   ],
   "source": [
    "cd Input"
   ]
  },
  {
   "cell_type": "code",
   "execution_count": 3,
   "metadata": {
    "scrolled": false
   },
   "outputs": [],
   "source": [
    "#creating the DFS\n",
    "fertility = pd.read_csv ('Fertility.csv', encoding='latin')\n",
    "gdp = pd.read_csv ('GDP per capita.csv', encoding='latin')\n",
    "life = pd.read_csv ('Life expectancy.csv', encoding='latin')\n",
    "meat = pd.read_csv ('Meat consumption.csv', encoding='latin')\n",
    "age = pd.read_csv ('Median age.csv', encoding='latin')\n",
    "growth = pd.read_csv ('Population growth.csv', encoding='latin')\n",
    "sex = pd.read_csv ('Sex-ratio.csv', encoding='latin')\n",
    "suicide = pd.read_csv ('Suicide rate.csv', encoding='latin')\n",
    "urbanization = pd.read_csv ('Urbanization rate.csv', encoding='latin')"
   ]
  },
  {
   "cell_type": "code",
   "execution_count": 4,
   "metadata": {},
   "outputs": [
    {
     "name": "stdout",
     "output_type": "stream",
     "text": [
      "/Users/nicostan/Downloads/Ironhack/labs/project-II\n"
     ]
    }
   ],
   "source": [
    "cd .."
   ]
  },
  {
   "cell_type": "code",
   "execution_count": 5,
   "metadata": {
    "scrolled": true
   },
   "outputs": [
    {
     "name": "stdout",
     "output_type": "stream",
     "text": [
      "Fertility has 201 rows\n",
      "gdp has 191 rows\n",
      "life has 185 rows\n",
      "meat has 187 rows\n",
      "age has 223 rows\n",
      "growth has 207 rows\n",
      "sex has 226 rows\n",
      "suicide has 182 rows\n",
      "urbanization has 218 rows\n"
     ]
    }
   ],
   "source": [
    "#Checking for missing countries\n",
    "print(f\"Fertility has {fertility.shape[0]} rows\")\n",
    "print(f\"gdp has {gdp.shape[0]} rows\")\n",
    "print(f\"life has {life.shape[0]} rows\")\n",
    "print(f\"meat has {meat.shape[0]} rows\")\n",
    "print(f\"age has {age.shape[0]} rows\")\n",
    "print(f\"growth has {growth.shape[0]} rows\")\n",
    "print(f\"sex has {sex.shape[0]} rows\")\n",
    "print(f\"suicide has {suicide.shape[0]} rows\")\n",
    "print(f\"urbanization has {urbanization.shape[0]} rows\")"
   ]
  },
  {
   "cell_type": "code",
   "execution_count": 6,
   "metadata": {},
   "outputs": [],
   "source": [
    "#Dropping country columns for future merge, we don't want to drop sex because it has the most countries(rows)\n",
    "fertility.drop(columns=\"Country\", inplace=True)\n",
    "gdp.drop(columns=\"Country\", inplace=True)\n",
    "life.drop(columns=\"Country\", inplace=True)\n",
    "meat.drop(columns=\"Country\", inplace=True)\n",
    "age.drop(columns=\"Country\", inplace=True)\n",
    "growth.drop(columns=\"Country\", inplace=True)\n",
    "suicide.drop(columns=\"Country\", inplace=True)\n",
    "urbanization.drop(columns=\"Country\", inplace=True)"
   ]
  },
  {
   "cell_type": "code",
   "execution_count": 7,
   "metadata": {},
   "outputs": [],
   "source": [
    "#Quick fix for meat, sex and age columns, also for solving the joining issue ahead\n",
    "fertility = fertility.astype({\"ISO-code\": str}, errors='raise') \n",
    "gdp = gdp.astype({\"ISO-code\": str}, errors='raise') \n",
    "life = life.astype({\"ISO-code\": str}, errors='raise')\n",
    "meat = meat.astype({\"ISO-code\": str}, errors='raise') \n",
    "age = age.astype({\"ISO-code\": str}, errors='raise') \n",
    "growth = growth.astype({\"ISO-code\": str}, errors='raise')\n",
    "sex = sex.astype({\"ISO-code\": str}, errors='raise') \n",
    "suicide = suicide.astype({\"ISO-code\": str}, errors='raise') \n",
    "urbanization = urbanization.astype({\"ISO-code\": str}, errors='raise')\n",
    "\n",
    "fertility['ISO-code']=fertility['ISO-code'].apply(lambda x: x.strip())\n",
    "gdp['ISO-code']=gdp['ISO-code'].apply(lambda x: x.strip())\n",
    "life['ISO-code']=life['ISO-code'].apply(lambda x: x.strip())\n",
    "growth['ISO-code']=growth['ISO-code'].apply(lambda x:x.strip())\n",
    "suicide['ISO-code']=suicide['ISO-code'].apply(lambda x:x.strip())\n",
    "urbanization['ISO-code']=urbanization['ISO-code'].apply(lambda x:x.strip())\n",
    "meat['ISO-code']=meat['ISO-code'].apply(lambda x: x.strip())\n",
    "sex['ISO-code']=sex['ISO-code'].apply(lambda x:x.strip())\n",
    "age['ISO-code']=age['ISO-code'].apply(lambda x:x.strip())"
   ]
  },
  {
   "cell_type": "code",
   "execution_count": 8,
   "metadata": {},
   "outputs": [],
   "source": [
    "#Only unique values\n",
    "fertility = fertility.drop_duplicates(subset='ISO-code')\n",
    "gdp = gdp.drop_duplicates(subset='ISO-code')\n",
    "life = life.drop_duplicates(subset='ISO-code')\n",
    "growth = growth.drop_duplicates(subset='ISO-code')\n",
    "suicide = suicide.drop_duplicates(subset='ISO-code')\n",
    "urbanization = urbanization.drop_duplicates(subset='ISO-code')\n",
    "meat = meat.drop_duplicates(subset='ISO-code')\n",
    "sex = sex.drop_duplicates(subset='ISO-code')\n",
    "age = age.drop_duplicates(subset='ISO-code')"
   ]
  },
  {
   "cell_type": "code",
   "execution_count": 11,
   "metadata": {
    "collapsed": true
   },
   "outputs": [
    {
     "name": "stderr",
     "output_type": "stream",
     "text": [
      "/var/folders/5v/dc6514ld10d33dy0zgf23r6m0000gn/T/ipykernel_62273/1970576627.py:2: FutureWarning: The frame.append method is deprecated and will be removed from pandas in a future version. Use pandas.concat instead.\n",
      "  sex = sex.append({'Country':'Palestine', 'ISO-code':'PSE'}, ignore_index=True)\n",
      "/var/folders/5v/dc6514ld10d33dy0zgf23r6m0000gn/T/ipykernel_62273/1970576627.py:3: FutureWarning: The frame.append method is deprecated and will be removed from pandas in a future version. Use pandas.concat instead.\n",
      "  sex = sex.append({'Country':'Martinique', 'ISO-code':'MTQ'}, ignore_index=True)\n",
      "/var/folders/5v/dc6514ld10d33dy0zgf23r6m0000gn/T/ipykernel_62273/1970576627.py:4: FutureWarning: The frame.append method is deprecated and will be removed from pandas in a future version. Use pandas.concat instead.\n",
      "  sex = sex.append({'Country':'Guadeloupe', 'ISO-code':'GLP'}, ignore_index=True)\n",
      "/var/folders/5v/dc6514ld10d33dy0zgf23r6m0000gn/T/ipykernel_62273/1970576627.py:5: FutureWarning: The frame.append method is deprecated and will be removed from pandas in a future version. Use pandas.concat instead.\n",
      "  sex = sex.append({'Country':'French Guiana', 'ISO-code':'GUF'}, ignore_index=True)\n",
      "/var/folders/5v/dc6514ld10d33dy0zgf23r6m0000gn/T/ipykernel_62273/1970576627.py:6: FutureWarning: The frame.append method is deprecated and will be removed from pandas in a future version. Use pandas.concat instead.\n",
      "  sex = sex.append({'Country':'Niue', 'ISO-code':'NIU'}, ignore_index=True)\n",
      "/var/folders/5v/dc6514ld10d33dy0zgf23r6m0000gn/T/ipykernel_62273/1970576627.py:7: FutureWarning: The frame.append method is deprecated and will be removed from pandas in a future version. Use pandas.concat instead.\n",
      "  sex = sex.append({'Country':'Réunion', 'ISO-code':'REU'}, ignore_index=True)\n",
      "/var/folders/5v/dc6514ld10d33dy0zgf23r6m0000gn/T/ipykernel_62273/1970576627.py:8: FutureWarning: The frame.append method is deprecated and will be removed from pandas in a future version. Use pandas.concat instead.\n",
      "  sex = sex.append({'Country':'Guinea-Bissau', 'ISO-code':'GBS'}, ignore_index=True)\n",
      "/var/folders/5v/dc6514ld10d33dy0zgf23r6m0000gn/T/ipykernel_62273/1970576627.py:9: FutureWarning: The frame.append method is deprecated and will be removed from pandas in a future version. Use pandas.concat instead.\n",
      "  sex = sex.append({'Country':'Mayotte', 'ISO-code':'MAY'}, ignore_index=True)\n"
     ]
    }
   ],
   "source": [
    "#Add missing countries for final analysis\n",
    "sex = sex.append({'Country':'Palestine', 'ISO-code':'PSE'}, ignore_index=True)\n",
    "sex = sex.append({'Country':'Martinique', 'ISO-code':'MTQ'}, ignore_index=True)\n",
    "sex = sex.append({'Country':'Guadeloupe', 'ISO-code':'GLP'}, ignore_index=True)\n",
    "sex = sex.append({'Country':'French Guiana', 'ISO-code':'GUF'}, ignore_index=True)\n",
    "sex = sex.append({'Country':'Niue', 'ISO-code':'NIU'}, ignore_index=True)\n",
    "sex = sex.append({'Country':'Réunion', 'ISO-code':'REU'}, ignore_index=True)\n",
    "sex = sex.append({'Country':'Guinea-Bissau', 'ISO-code':'GBS'}, ignore_index=True)\n",
    "sex = sex.append({'Country':'Mayotte', 'ISO-code':'MAY'}, ignore_index=True)\n"
   ]
  },
  {
   "cell_type": "code",
   "execution_count": 12,
   "metadata": {},
   "outputs": [
    {
     "data": {
      "text/plain": [
       "240"
      ]
     },
     "execution_count": 12,
     "metadata": {},
     "output_type": "execute_result"
    }
   ],
   "source": [
    "df = sex.merge(fertility, on=['ISO-code'], how='left')\n",
    "df = df.merge(gdp, on=['ISO-code'], how='left')\n",
    "df = df.merge(life, on=['ISO-code'], how='left')\n",
    "df = df.merge(meat, on=['ISO-code'], how='left')\n",
    "df = df.merge(age, on=['ISO-code'], how='left')\n",
    "df = df.merge(growth, on=['ISO-code'], how='left')\n",
    "df = df.merge(suicide, on=['ISO-code'], how='left')\n",
    "df = df.merge(urbanization, on=['ISO-code'], how='left')\n",
    "df.shape[0]"
   ]
  },
  {
   "cell_type": "code",
   "execution_count": 13,
   "metadata": {},
   "outputs": [
    {
     "data": {
      "text/html": [
       "<div>\n",
       "<style scoped>\n",
       "    .dataframe tbody tr th:only-of-type {\n",
       "        vertical-align: middle;\n",
       "    }\n",
       "\n",
       "    .dataframe tbody tr th {\n",
       "        vertical-align: top;\n",
       "    }\n",
       "\n",
       "    .dataframe thead th {\n",
       "        text-align: right;\n",
       "    }\n",
       "</style>\n",
       "<table border=\"1\" class=\"dataframe\">\n",
       "  <thead>\n",
       "    <tr style=\"text-align: right;\">\n",
       "      <th></th>\n",
       "      <th>Country</th>\n",
       "      <th>Sex-ratio</th>\n",
       "      <th>ISO-code</th>\n",
       "      <th>Fertility</th>\n",
       "      <th>GDP per capita</th>\n",
       "      <th>Life expectancy</th>\n",
       "      <th>Meat consumption</th>\n",
       "      <th>Median age</th>\n",
       "      <th>Population growth</th>\n",
       "      <th>Suicide rate</th>\n",
       "      <th>Urbanization rate</th>\n",
       "    </tr>\n",
       "  </thead>\n",
       "  <tbody>\n",
       "    <tr>\n",
       "      <th>20</th>\n",
       "      <td>Belize</td>\n",
       "      <td>1.0</td>\n",
       "      <td>BLZ</td>\n",
       "      <td>2.3</td>\n",
       "      <td>8791.0</td>\n",
       "      <td>74.5</td>\n",
       "      <td>74.7</td>\n",
       "      <td>22.7</td>\n",
       "      <td>2.43</td>\n",
       "      <td>5.9</td>\n",
       "      <td>46.0</td>\n",
       "    </tr>\n",
       "  </tbody>\n",
       "</table>\n",
       "</div>"
      ],
      "text/plain": [
       "   Country  Sex-ratio ISO-code  Fertility  GDP per capita  Life expectancy  \\\n",
       "20  Belize        1.0      BLZ        2.3          8791.0             74.5   \n",
       "\n",
       "    Meat consumption  Median age  Population growth  Suicide rate  \\\n",
       "20              74.7        22.7               2.43           5.9   \n",
       "\n",
       "    Urbanization rate  \n",
       "20               46.0  "
      ]
     },
     "execution_count": 13,
     "metadata": {},
     "output_type": "execute_result"
    }
   ],
   "source": [
    "df.sample()"
   ]
  },
  {
   "cell_type": "code",
   "execution_count": 14,
   "metadata": {},
   "outputs": [
    {
     "data": {
      "text/plain": [
       "344"
      ]
     },
     "execution_count": 14,
     "metadata": {},
     "output_type": "execute_result"
    }
   ],
   "source": [
    "df.isna().sum().sum()"
   ]
  },
  {
   "cell_type": "code",
   "execution_count": 15,
   "metadata": {
    "scrolled": true
   },
   "outputs": [],
   "source": [
    "#Scraping migration data from wikipedia\n",
    "url = \"https://en.wikipedia.org/wiki/List_of_countries_by_net_migration_rate\"\n",
    "res = requests.get(url)\n",
    "html=res.content\n",
    "soup = BeautifulSoup(html, \"html.parser\")"
   ]
  },
  {
   "cell_type": "code",
   "execution_count": 16,
   "metadata": {},
   "outputs": [],
   "source": [
    "tables = soup.find_all(\"table\")[1] #The second one"
   ]
  },
  {
   "cell_type": "code",
   "execution_count": 17,
   "metadata": {
    "scrolled": true
   },
   "outputs": [
    {
     "data": {
      "text/plain": [
       "['Country', 'Net Migration']"
      ]
     },
     "execution_count": 17,
     "metadata": {},
     "output_type": "execute_result"
    }
   ],
   "source": [
    "df2 = pd.read_html(tables.prettify())[0]\n",
    "df2.rename(columns = {'Annual net migration per 1000 inhabitants  2010–2015':'Net Migration'}, inplace = True)\n",
    "df2.drop(columns='Annual net migration per 1000 inhabitants  2015–2020 (forecast)', inplace=True)\n",
    "list(df2.keys())"
   ]
  },
  {
   "cell_type": "code",
   "execution_count": 18,
   "metadata": {},
   "outputs": [],
   "source": [
    "df['Country']=df['Country'].apply(lambda x: x.strip())\n",
    "df2['Country']=df2['Country'].apply(lambda x: x.strip())"
   ]
  },
  {
   "cell_type": "code",
   "execution_count": 19,
   "metadata": {},
   "outputs": [
    {
     "name": "stderr",
     "output_type": "stream",
     "text": [
      "/var/folders/5v/dc6514ld10d33dy0zgf23r6m0000gn/T/ipykernel_62273/296430082.py:3: FutureWarning: The frame.append method is deprecated and will be removed from pandas in a future version. Use pandas.concat instead.\n",
      "  df2 = df2.append({'Country':'Guernsey', 'Net Migration':df2['Net Migration'][28]}, ignore_index=True)\n"
     ]
    }
   ],
   "source": [
    "df2['Country'][13]='Curacao'\n",
    "df2['Country'][28]='Jersey'\n",
    "df2 = df2.append({'Country':'Guernsey', 'Net Migration':df2['Net Migration'][28]}, ignore_index=True)\n",
    "df2['Country'][31]='United Kingdom'\n",
    "df2['Country'][37]='The Bahamas'\n",
    "df2['Country'][73]='Democratic Republic of the Congo'\n",
    "df2['Country'][119]='The Gambia'\n",
    "df2['Country'][138]='Republic of the Congo'\n",
    "df2['Country'][179]='Virgin Islands'\n",
    "df2['Country'][180]='Sao Tome and Principe'\n",
    "df2['Country'][189]='Samoa'"
   ]
  },
  {
   "cell_type": "code",
   "execution_count": 20,
   "metadata": {},
   "outputs": [
    {
     "data": {
      "text/plain": [
       "240"
      ]
     },
     "execution_count": 20,
     "metadata": {},
     "output_type": "execute_result"
    }
   ],
   "source": [
    "df = df.merge(df2, on=['Country'], how='left')\n",
    "df.shape[0]"
   ]
  },
  {
   "cell_type": "code",
   "execution_count": 21,
   "metadata": {},
   "outputs": [
    {
     "data": {
      "text/html": [
       "<div>\n",
       "<style scoped>\n",
       "    .dataframe tbody tr th:only-of-type {\n",
       "        vertical-align: middle;\n",
       "    }\n",
       "\n",
       "    .dataframe tbody tr th {\n",
       "        vertical-align: top;\n",
       "    }\n",
       "\n",
       "    .dataframe thead th {\n",
       "        text-align: right;\n",
       "    }\n",
       "</style>\n",
       "<table border=\"1\" class=\"dataframe\">\n",
       "  <thead>\n",
       "    <tr style=\"text-align: right;\">\n",
       "      <th></th>\n",
       "      <th>Country</th>\n",
       "      <th>Sex-ratio</th>\n",
       "      <th>ISO-code</th>\n",
       "      <th>Fertility</th>\n",
       "      <th>GDP per capita</th>\n",
       "      <th>Life expectancy</th>\n",
       "      <th>Meat consumption</th>\n",
       "      <th>Median age</th>\n",
       "      <th>Population growth</th>\n",
       "      <th>Suicide rate</th>\n",
       "      <th>Urbanization rate</th>\n",
       "      <th>Net Migration</th>\n",
       "    </tr>\n",
       "  </thead>\n",
       "  <tbody>\n",
       "    <tr>\n",
       "      <th>172</th>\n",
       "      <td>Samoa</td>\n",
       "      <td>1.04</td>\n",
       "      <td>WSM</td>\n",
       "      <td>3.9</td>\n",
       "      <td>6493.0</td>\n",
       "      <td>73.2</td>\n",
       "      <td>82.6</td>\n",
       "      <td>24.4</td>\n",
       "      <td>0.78</td>\n",
       "      <td>5.4</td>\n",
       "      <td>NaN</td>\n",
       "      <td>−12.8</td>\n",
       "    </tr>\n",
       "  </tbody>\n",
       "</table>\n",
       "</div>"
      ],
      "text/plain": [
       "    Country  Sex-ratio ISO-code  Fertility  GDP per capita  Life expectancy  \\\n",
       "172   Samoa       1.04      WSM        3.9          6493.0             73.2   \n",
       "\n",
       "     Meat consumption  Median age  Population growth  Suicide rate  \\\n",
       "172              82.6        24.4               0.78           5.4   \n",
       "\n",
       "     Urbanization rate Net Migration  \n",
       "172                NaN         −12.8  "
      ]
     },
     "execution_count": 21,
     "metadata": {},
     "output_type": "execute_result"
    }
   ],
   "source": [
    "df.sample()"
   ]
  },
  {
   "cell_type": "code",
   "execution_count": 22,
   "metadata": {},
   "outputs": [],
   "source": [
    "df.drop(columns='ISO-code', inplace=True)"
   ]
  },
  {
   "cell_type": "code",
   "execution_count": 23,
   "metadata": {},
   "outputs": [
    {
     "data": {
      "text/html": [
       "<div>\n",
       "<style scoped>\n",
       "    .dataframe tbody tr th:only-of-type {\n",
       "        vertical-align: middle;\n",
       "    }\n",
       "\n",
       "    .dataframe tbody tr th {\n",
       "        vertical-align: top;\n",
       "    }\n",
       "\n",
       "    .dataframe thead th {\n",
       "        text-align: right;\n",
       "    }\n",
       "</style>\n",
       "<table border=\"1\" class=\"dataframe\">\n",
       "  <thead>\n",
       "    <tr style=\"text-align: right;\">\n",
       "      <th></th>\n",
       "      <th>Country</th>\n",
       "      <th>Continent</th>\n",
       "    </tr>\n",
       "  </thead>\n",
       "  <tbody>\n",
       "    <tr>\n",
       "      <th>140</th>\n",
       "      <td>Netherlands</td>\n",
       "      <td>Europe</td>\n",
       "    </tr>\n",
       "  </tbody>\n",
       "</table>\n",
       "</div>"
      ],
      "text/plain": [
       "         Country Continent\n",
       "140  Netherlands    Europe"
      ]
     },
     "execution_count": 23,
     "metadata": {},
     "output_type": "execute_result"
    }
   ],
   "source": [
    "df3 = pd.read_csv('Input/csvData.csv')\n",
    "df3.rename(columns = {'country':'Country', 'continent':'Continent'}, inplace = True)\n",
    "df3.sample()"
   ]
  },
  {
   "cell_type": "code",
   "execution_count": 24,
   "metadata": {},
   "outputs": [
    {
     "name": "stderr",
     "output_type": "stream",
     "text": [
      "/var/folders/5v/dc6514ld10d33dy0zgf23r6m0000gn/T/ipykernel_62273/1015072771.py:2: FutureWarning: The frame.append method is deprecated and will be removed from pandas in a future version. Use pandas.concat instead.\n",
      "  df3 = df3.append({'Country':'Democratic Republic of the Congo', 'Continent':'Africa'}, ignore_index=True)\n"
     ]
    }
   ],
   "source": [
    "df3[\"Country\"][160]='The Bahamas'\n",
    "df3 = df3.append({'Country':'Democratic Republic of the Congo', 'Continent':'Africa'}, ignore_index=True)\n",
    "df3[\"Country\"][19]='The Gambia'\n",
    "df3[\"Country\"][100]='East Timor'"
   ]
  },
  {
   "cell_type": "code",
   "execution_count": 25,
   "metadata": {},
   "outputs": [],
   "source": [
    "df3.to_csv(\"./Input/continents.csv\")"
   ]
  },
  {
   "cell_type": "code",
   "execution_count": 26,
   "metadata": {},
   "outputs": [
    {
     "data": {
      "text/html": [
       "<div>\n",
       "<style scoped>\n",
       "    .dataframe tbody tr th:only-of-type {\n",
       "        vertical-align: middle;\n",
       "    }\n",
       "\n",
       "    .dataframe tbody tr th {\n",
       "        vertical-align: top;\n",
       "    }\n",
       "\n",
       "    .dataframe thead th {\n",
       "        text-align: right;\n",
       "    }\n",
       "</style>\n",
       "<table border=\"1\" class=\"dataframe\">\n",
       "  <thead>\n",
       "    <tr style=\"text-align: right;\">\n",
       "      <th></th>\n",
       "      <th>Country</th>\n",
       "      <th>Sex-ratio</th>\n",
       "      <th>Fertility</th>\n",
       "      <th>GDP per capita</th>\n",
       "      <th>Life expectancy</th>\n",
       "      <th>Meat consumption</th>\n",
       "      <th>Median age</th>\n",
       "      <th>Population growth</th>\n",
       "      <th>Suicide rate</th>\n",
       "      <th>Urbanization rate</th>\n",
       "      <th>Net Migration</th>\n",
       "      <th>Continent</th>\n",
       "    </tr>\n",
       "  </thead>\n",
       "  <tbody>\n",
       "    <tr>\n",
       "      <th>81</th>\n",
       "      <td>Guernsey</td>\n",
       "      <td>0.99</td>\n",
       "      <td>NaN</td>\n",
       "      <td>NaN</td>\n",
       "      <td>NaN</td>\n",
       "      <td>NaN</td>\n",
       "      <td>43.8</td>\n",
       "      <td>NaN</td>\n",
       "      <td>NaN</td>\n",
       "      <td>31.0</td>\n",
       "      <td>4.4</td>\n",
       "      <td>Europe</td>\n",
       "    </tr>\n",
       "  </tbody>\n",
       "</table>\n",
       "</div>"
      ],
      "text/plain": [
       "     Country  Sex-ratio  Fertility  GDP per capita  Life expectancy  \\\n",
       "81  Guernsey       0.99        NaN             NaN              NaN   \n",
       "\n",
       "    Meat consumption  Median age  Population growth  Suicide rate  \\\n",
       "81               NaN        43.8                NaN           NaN   \n",
       "\n",
       "    Urbanization rate Net Migration Continent  \n",
       "81               31.0           4.4    Europe  "
      ]
     },
     "execution_count": 26,
     "metadata": {},
     "output_type": "execute_result"
    }
   ],
   "source": [
    "df = df.merge(df3, on=['Country'], how='left')\n",
    "df.sample()"
   ]
  },
  {
   "cell_type": "code",
   "execution_count": 27,
   "metadata": {},
   "outputs": [
    {
     "data": {
      "text/plain": [
       "5"
      ]
     },
     "execution_count": 27,
     "metadata": {},
     "output_type": "execute_result"
    }
   ],
   "source": [
    "df['Continent'].isna().sum()\n",
    "#Countries without continent: Small Islands"
   ]
  },
  {
   "cell_type": "code",
   "execution_count": 28,
   "metadata": {},
   "outputs": [],
   "source": [
    "first = pd.read_csv('Input/first.csv')\n",
    "third = pd.read_csv('Input/third.csv')"
   ]
  },
  {
   "cell_type": "code",
   "execution_count": 29,
   "metadata": {},
   "outputs": [],
   "source": [
    "first.drop(columns=['hdiRank', 'pop2022'], inplace=True)\n",
    "third.drop(columns=['pop2022'], inplace=True)"
   ]
  },
  {
   "cell_type": "code",
   "execution_count": 30,
   "metadata": {},
   "outputs": [],
   "source": [
    "first.rename(columns = {'country':'Country','hdi2019':'HDI' }, inplace = True)\n",
    "third.rename(columns = {'country':'Country', 'humanDevelopmentIndex':'HDI'}, inplace = True)"
   ]
  },
  {
   "cell_type": "code",
   "execution_count": 31,
   "metadata": {},
   "outputs": [],
   "source": [
    "first['Class']='Developped'\n",
    "third['Class']='In development'"
   ]
  },
  {
   "cell_type": "code",
   "execution_count": 32,
   "metadata": {
    "collapsed": true
   },
   "outputs": [
    {
     "name": "stderr",
     "output_type": "stream",
     "text": [
      "/var/folders/5v/dc6514ld10d33dy0zgf23r6m0000gn/T/ipykernel_62273/1718283365.py:1: SettingWithCopyWarning: \n",
      "A value is trying to be set on a copy of a slice from a DataFrame\n",
      "\n",
      "See the caveats in the documentation: https://pandas.pydata.org/pandas-docs/stable/user_guide/indexing.html#returning-a-view-versus-a-copy\n",
      "  first[\"Country\"][55]='The Bahamas'\n",
      "/var/folders/5v/dc6514ld10d33dy0zgf23r6m0000gn/T/ipykernel_62273/1718283365.py:2: SettingWithCopyWarning: \n",
      "A value is trying to be set on a copy of a slice from a DataFrame\n",
      "\n",
      "See the caveats in the documentation: https://pandas.pydata.org/pandas-docs/stable/user_guide/indexing.html#returning-a-view-versus-a-copy\n",
      "  third['Country'][87]='American Samoa'\n",
      "/var/folders/5v/dc6514ld10d33dy0zgf23r6m0000gn/T/ipykernel_62273/1718283365.py:3: SettingWithCopyWarning: \n",
      "A value is trying to be set on a copy of a slice from a DataFrame\n",
      "\n",
      "See the caveats in the documentation: https://pandas.pydata.org/pandas-docs/stable/user_guide/indexing.html#returning-a-view-versus-a-copy\n",
      "  third['Country'][15]='Democratic Republic of the Congo'\n",
      "/var/folders/5v/dc6514ld10d33dy0zgf23r6m0000gn/T/ipykernel_62273/1718283365.py:4: SettingWithCopyWarning: \n",
      "A value is trying to be set on a copy of a slice from a DataFrame\n",
      "\n",
      "See the caveats in the documentation: https://pandas.pydata.org/pandas-docs/stable/user_guide/indexing.html#returning-a-view-versus-a-copy\n",
      "  third['Country'][17]='The Gambia'\n",
      "/var/folders/5v/dc6514ld10d33dy0zgf23r6m0000gn/T/ipykernel_62273/1718283365.py:5: SettingWithCopyWarning: \n",
      "A value is trying to be set on a copy of a slice from a DataFrame\n",
      "\n",
      "See the caveats in the documentation: https://pandas.pydata.org/pandas-docs/stable/user_guide/indexing.html#returning-a-view-versus-a-copy\n",
      "  third['Country'][59]='East Timor'\n"
     ]
    }
   ],
   "source": [
    "first[\"Country\"][55]='The Bahamas'\n",
    "third['Country'][87]='American Samoa'\n",
    "third['Country'][15]='Democratic Republic of the Congo'\n",
    "third['Country'][17]='The Gambia'\n",
    "third['Country'][59]='East Timor'"
   ]
  },
  {
   "cell_type": "code",
   "execution_count": 33,
   "metadata": {},
   "outputs": [
    {
     "data": {
      "text/html": [
       "<div>\n",
       "<style scoped>\n",
       "    .dataframe tbody tr th:only-of-type {\n",
       "        vertical-align: middle;\n",
       "    }\n",
       "\n",
       "    .dataframe tbody tr th {\n",
       "        vertical-align: top;\n",
       "    }\n",
       "\n",
       "    .dataframe thead th {\n",
       "        text-align: right;\n",
       "    }\n",
       "</style>\n",
       "<table border=\"1\" class=\"dataframe\">\n",
       "  <thead>\n",
       "    <tr style=\"text-align: right;\">\n",
       "      <th></th>\n",
       "      <th>Country</th>\n",
       "      <th>HDI</th>\n",
       "      <th>Class</th>\n",
       "    </tr>\n",
       "  </thead>\n",
       "  <tbody>\n",
       "    <tr>\n",
       "      <th>35</th>\n",
       "      <td>Latvia</td>\n",
       "      <td>0.866</td>\n",
       "      <td>Developped</td>\n",
       "    </tr>\n",
       "  </tbody>\n",
       "</table>\n",
       "</div>"
      ],
      "text/plain": [
       "   Country    HDI       Class\n",
       "35  Latvia  0.866  Developped"
      ]
     },
     "execution_count": 33,
     "metadata": {},
     "output_type": "execute_result"
    }
   ],
   "source": [
    "first.sample()"
   ]
  },
  {
   "cell_type": "code",
   "execution_count": 34,
   "metadata": {},
   "outputs": [
    {
     "data": {
      "text/html": [
       "<div>\n",
       "<style scoped>\n",
       "    .dataframe tbody tr th:only-of-type {\n",
       "        vertical-align: middle;\n",
       "    }\n",
       "\n",
       "    .dataframe tbody tr th {\n",
       "        vertical-align: top;\n",
       "    }\n",
       "\n",
       "    .dataframe thead th {\n",
       "        text-align: right;\n",
       "    }\n",
       "</style>\n",
       "<table border=\"1\" class=\"dataframe\">\n",
       "  <thead>\n",
       "    <tr style=\"text-align: right;\">\n",
       "      <th></th>\n",
       "      <th>Country</th>\n",
       "      <th>HDI</th>\n",
       "      <th>Class</th>\n",
       "    </tr>\n",
       "  </thead>\n",
       "  <tbody>\n",
       "    <tr>\n",
       "      <th>150</th>\n",
       "      <td>Brunei</td>\n",
       "      <td>0.853</td>\n",
       "      <td>In development</td>\n",
       "    </tr>\n",
       "  </tbody>\n",
       "</table>\n",
       "</div>"
      ],
      "text/plain": [
       "    Country    HDI           Class\n",
       "150  Brunei  0.853  In development"
      ]
     },
     "execution_count": 34,
     "metadata": {},
     "output_type": "execute_result"
    }
   ],
   "source": [
    "third.sample()"
   ]
  },
  {
   "cell_type": "code",
   "execution_count": 35,
   "metadata": {},
   "outputs": [],
   "source": [
    "worlds=pd.concat([first, third], ignore_index=True)\n",
    "worlds.drop_duplicates(subset='Country', keep='first', inplace=True, ignore_index=True)"
   ]
  },
  {
   "cell_type": "code",
   "execution_count": 36,
   "metadata": {},
   "outputs": [],
   "source": [
    "#worlds.sort_values(by='Country', axis=0, ascending=True)"
   ]
  },
  {
   "cell_type": "code",
   "execution_count": 37,
   "metadata": {},
   "outputs": [
    {
     "data": {
      "text/plain": [
       "191"
      ]
     },
     "execution_count": 37,
     "metadata": {},
     "output_type": "execute_result"
    }
   ],
   "source": [
    "worlds.shape[0]"
   ]
  },
  {
   "cell_type": "code",
   "execution_count": 38,
   "metadata": {},
   "outputs": [],
   "source": [
    "worlds.to_csv(\"./Input/worlds.csv\")"
   ]
  },
  {
   "cell_type": "code",
   "execution_count": 39,
   "metadata": {},
   "outputs": [],
   "source": [
    "df = df.merge(worlds, on=['Country'], how='left')"
   ]
  },
  {
   "cell_type": "code",
   "execution_count": 40,
   "metadata": {},
   "outputs": [
    {
     "data": {
      "text/html": [
       "<div>\n",
       "<style scoped>\n",
       "    .dataframe tbody tr th:only-of-type {\n",
       "        vertical-align: middle;\n",
       "    }\n",
       "\n",
       "    .dataframe tbody tr th {\n",
       "        vertical-align: top;\n",
       "    }\n",
       "\n",
       "    .dataframe thead th {\n",
       "        text-align: right;\n",
       "    }\n",
       "</style>\n",
       "<table border=\"1\" class=\"dataframe\">\n",
       "  <thead>\n",
       "    <tr style=\"text-align: right;\">\n",
       "      <th></th>\n",
       "      <th>Country</th>\n",
       "      <th>Sex-ratio</th>\n",
       "      <th>Fertility</th>\n",
       "      <th>GDP per capita</th>\n",
       "      <th>Life expectancy</th>\n",
       "      <th>Meat consumption</th>\n",
       "      <th>Median age</th>\n",
       "      <th>Population growth</th>\n",
       "      <th>Suicide rate</th>\n",
       "      <th>Urbanization rate</th>\n",
       "      <th>Net Migration</th>\n",
       "      <th>Continent</th>\n",
       "      <th>HDI</th>\n",
       "      <th>Class</th>\n",
       "    </tr>\n",
       "  </thead>\n",
       "  <tbody>\n",
       "    <tr>\n",
       "      <th>141</th>\n",
       "      <td>Netherlands</td>\n",
       "      <td>0.98</td>\n",
       "      <td>1.6</td>\n",
       "      <td>60299.0</td>\n",
       "      <td>82.1</td>\n",
       "      <td>89.3</td>\n",
       "      <td>42.6</td>\n",
       "      <td>0.45</td>\n",
       "      <td>9.6</td>\n",
       "      <td>92.2</td>\n",
       "      <td>0.7</td>\n",
       "      <td>Europe</td>\n",
       "      <td>0.944</td>\n",
       "      <td>Developped</td>\n",
       "    </tr>\n",
       "  </tbody>\n",
       "</table>\n",
       "</div>"
      ],
      "text/plain": [
       "         Country  Sex-ratio  Fertility  GDP per capita  Life expectancy  \\\n",
       "141  Netherlands       0.98        1.6         60299.0             82.1   \n",
       "\n",
       "     Meat consumption  Median age  Population growth  Suicide rate  \\\n",
       "141              89.3        42.6               0.45           9.6   \n",
       "\n",
       "     Urbanization rate Net Migration Continent    HDI       Class  \n",
       "141               92.2           0.7    Europe  0.944  Developped  "
      ]
     },
     "execution_count": 40,
     "metadata": {},
     "output_type": "execute_result"
    }
   ],
   "source": [
    "df.sample()"
   ]
  },
  {
   "cell_type": "code",
   "execution_count": 43,
   "metadata": {},
   "outputs": [],
   "source": [
    "df['Class'].fillna(value='In development', inplace=True)"
   ]
  },
  {
   "cell_type": "code",
   "execution_count": 44,
   "metadata": {},
   "outputs": [
    {
     "data": {
      "text/html": [
       "<div>\n",
       "<style scoped>\n",
       "    .dataframe tbody tr th:only-of-type {\n",
       "        vertical-align: middle;\n",
       "    }\n",
       "\n",
       "    .dataframe tbody tr th {\n",
       "        vertical-align: top;\n",
       "    }\n",
       "\n",
       "    .dataframe thead th {\n",
       "        text-align: right;\n",
       "    }\n",
       "</style>\n",
       "<table border=\"1\" class=\"dataframe\">\n",
       "  <thead>\n",
       "    <tr style=\"text-align: right;\">\n",
       "      <th></th>\n",
       "      <th>Country</th>\n",
       "      <th>Sex-ratio</th>\n",
       "      <th>Fertility</th>\n",
       "      <th>GDP per capita</th>\n",
       "      <th>Life expectancy</th>\n",
       "      <th>Meat consumption</th>\n",
       "      <th>Median age</th>\n",
       "      <th>Population growth</th>\n",
       "      <th>Suicide rate</th>\n",
       "      <th>Urbanization rate</th>\n",
       "      <th>Net Migration</th>\n",
       "      <th>Continent</th>\n",
       "      <th>HDI</th>\n",
       "      <th>Class</th>\n",
       "    </tr>\n",
       "  </thead>\n",
       "  <tbody>\n",
       "    <tr>\n",
       "      <th>0</th>\n",
       "      <td>Afghanistan</td>\n",
       "      <td>1.03</td>\n",
       "      <td>4.5</td>\n",
       "      <td>2182.0</td>\n",
       "      <td>64.5</td>\n",
       "      <td>17.3</td>\n",
       "      <td>27.4</td>\n",
       "      <td>2.41</td>\n",
       "      <td>6.4</td>\n",
       "      <td>26.0</td>\n",
       "      <td>3.3</td>\n",
       "      <td>Asia</td>\n",
       "      <td>0.498</td>\n",
       "      <td>In development</td>\n",
       "    </tr>\n",
       "    <tr>\n",
       "      <th>1</th>\n",
       "      <td>Albania</td>\n",
       "      <td>0.98</td>\n",
       "      <td>1.6</td>\n",
       "      <td>14866.0</td>\n",
       "      <td>NaN</td>\n",
       "      <td>NaN</td>\n",
       "      <td>32.9</td>\n",
       "      <td>0.26</td>\n",
       "      <td>5.6</td>\n",
       "      <td>62.1</td>\n",
       "      <td>−9.4</td>\n",
       "      <td>Europe</td>\n",
       "      <td>0.785</td>\n",
       "      <td>In development</td>\n",
       "    </tr>\n",
       "    <tr>\n",
       "      <th>2</th>\n",
       "      <td>Algeria</td>\n",
       "      <td>1.03</td>\n",
       "      <td>3.0</td>\n",
       "      <td>16091.0</td>\n",
       "      <td>76.7</td>\n",
       "      <td>18.3</td>\n",
       "      <td>28.1</td>\n",
       "      <td>1.89</td>\n",
       "      <td>3.3</td>\n",
       "      <td>73.7</td>\n",
       "      <td>−0.8</td>\n",
       "      <td>Africa</td>\n",
       "      <td>0.754</td>\n",
       "      <td>In development</td>\n",
       "    </tr>\n",
       "    <tr>\n",
       "      <th>3</th>\n",
       "      <td>American Samoa</td>\n",
       "      <td>1.00</td>\n",
       "      <td>NaN</td>\n",
       "      <td>NaN</td>\n",
       "      <td>NaN</td>\n",
       "      <td>24.9</td>\n",
       "      <td>25.5</td>\n",
       "      <td>-0.26</td>\n",
       "      <td>NaN</td>\n",
       "      <td>87.2</td>\n",
       "      <td>NaN</td>\n",
       "      <td>Oceania</td>\n",
       "      <td>0.713</td>\n",
       "      <td>In development</td>\n",
       "    </tr>\n",
       "    <tr>\n",
       "      <th>4</th>\n",
       "      <td>Andorra</td>\n",
       "      <td>1.06</td>\n",
       "      <td>1.3</td>\n",
       "      <td>NaN</td>\n",
       "      <td>81.8</td>\n",
       "      <td>NaN</td>\n",
       "      <td>44.3</td>\n",
       "      <td>0.63</td>\n",
       "      <td>NaN</td>\n",
       "      <td>87.9</td>\n",
       "      <td>NaN</td>\n",
       "      <td>Europe</td>\n",
       "      <td>0.868</td>\n",
       "      <td>Developped</td>\n",
       "    </tr>\n",
       "  </tbody>\n",
       "</table>\n",
       "</div>"
      ],
      "text/plain": [
       "          Country  Sex-ratio  Fertility  GDP per capita  Life expectancy  \\\n",
       "0     Afghanistan       1.03        4.5          2182.0             64.5   \n",
       "1         Albania       0.98        1.6         14866.0              NaN   \n",
       "2         Algeria       1.03        3.0         16091.0             76.7   \n",
       "3  American Samoa       1.00        NaN             NaN              NaN   \n",
       "4         Andorra       1.06        1.3             NaN             81.8   \n",
       "\n",
       "   Meat consumption  Median age  Population growth  Suicide rate  \\\n",
       "0              17.3        27.4               2.41           6.4   \n",
       "1               NaN        32.9               0.26           5.6   \n",
       "2              18.3        28.1               1.89           3.3   \n",
       "3              24.9        25.5              -0.26           NaN   \n",
       "4               NaN        44.3               0.63           NaN   \n",
       "\n",
       "   Urbanization rate Net Migration Continent    HDI           Class  \n",
       "0               26.0           3.3      Asia  0.498  In development  \n",
       "1               62.1          −9.4    Europe  0.785  In development  \n",
       "2               73.7          −0.8    Africa  0.754  In development  \n",
       "3               87.2           NaN   Oceania  0.713  In development  \n",
       "4               87.9           NaN    Europe  0.868      Developped  "
      ]
     },
     "execution_count": 44,
     "metadata": {},
     "output_type": "execute_result"
    }
   ],
   "source": [
    "#df=df.set_index('Country')\n",
    "df.dropna(thresh=8, inplace=True)\n",
    "df.head()"
   ]
  },
  {
   "cell_type": "code",
   "execution_count": 45,
   "metadata": {},
   "outputs": [
    {
     "data": {
      "text/plain": [
       "205"
      ]
     },
     "execution_count": 45,
     "metadata": {},
     "output_type": "execute_result"
    }
   ],
   "source": [
    "df.shape[0]"
   ]
  },
  {
   "cell_type": "code",
   "execution_count": 46,
   "metadata": {},
   "outputs": [],
   "source": [
    "df.to_csv(\"./Output/df_clean.csv\")"
   ]
  },
  {
   "cell_type": "code",
   "execution_count": null,
   "metadata": {},
   "outputs": [],
   "source": [
    "df"
   ]
  }
 ],
 "metadata": {
  "kernelspec": {
   "display_name": "Python 3 (ipykernel)",
   "language": "python",
   "name": "python3"
  },
  "language_info": {
   "codemirror_mode": {
    "name": "ipython",
    "version": 3
   },
   "file_extension": ".py",
   "mimetype": "text/x-python",
   "name": "python",
   "nbconvert_exporter": "python",
   "pygments_lexer": "ipython3",
   "version": "3.9.12"
  },
  "toc": {
   "base_numbering": "",
   "nav_menu": {},
   "number_sections": false,
   "sideBar": true,
   "skip_h1_title": false,
   "title_cell": "Table of Contents",
   "title_sidebar": "Contents",
   "toc_cell": false,
   "toc_position": {},
   "toc_section_display": true,
   "toc_window_display": true
  }
 },
 "nbformat": 4,
 "nbformat_minor": 2
}
